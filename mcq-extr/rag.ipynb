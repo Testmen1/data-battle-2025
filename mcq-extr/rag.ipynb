{
 "cells": [
  {
   "cell_type": "code",
   "execution_count": 1,
   "metadata": {},
   "outputs": [],
   "source": [
    "import json\n",
    "from sklearn.metrics.pairwise import cosine_similarity"
   ]
  },
  {
   "cell_type": "code",
   "execution_count": 2,
   "metadata": {},
   "outputs": [],
   "source": [
    "\n",
    "with open('data/clean/json/case_law_of_the_board.json') as f:\n",
    "    data = json.load(f)\n"
   ]
  },
  {
   "cell_type": "code",
   "execution_count": 3,
   "metadata": {},
   "outputs": [],
   "source": [
    "def flatten_json(json_obj, parent_title='', parent_number=''):\n",
    "    \"\"\"\n",
    "    Aplatit une structure JSON imbriquée en une liste de chaînes de texte avec contexte.\n",
    "\n",
    "    :param json_obj: Dictionnaire JSON à aplatir.\n",
    "    :param parent_title: Titre parent pour le contexte.\n",
    "    :param parent_number: Numéro parent pour le contexte.\n",
    "    :return: Liste de chaînes de texte aplaties avec contexte.\n",
    "    \"\"\"\n",
    "    items = []\n",
    "\n",
    "    if isinstance(json_obj, dict):\n",
    "        article_title = json_obj.get(\"article_title\", \"\")\n",
    "        article_number = json_obj.get(\"article_number\", \"\")\n",
    "        main_article = json_obj.get(\"main_article\", \"\")\n",
    "\n",
    "        # Construire le titre complet avec contexte\n",
    "        full_title = f\"{parent_title} {article_number} {article_title}\".strip(\", \")\n",
    "        if main_article:\n",
    "            items.append(f\"{full_title} : {main_article}\")\n",
    "\n",
    "        # Parcourir les sous-articles récursivement\n",
    "        sub_articles = json_obj.get(\"sub_articles\", [])\n",
    "        for sub_article in sub_articles:\n",
    "            items.extend(flatten_json(sub_article, full_title, article_number))\n",
    "\n",
    "    elif isinstance(json_obj, list):\n",
    "        for item in json_obj:\n",
    "            items.extend(flatten_json(item, parent_title, parent_number))\n",
    "\n",
    "    return items"
   ]
  },
  {
   "cell_type": "code",
   "execution_count": 4,
   "metadata": {},
   "outputs": [],
   "source": [
    "data = flatten_json(data)\n",
    "\n",
    "\n"
   ]
  },
  {
   "cell_type": "code",
   "execution_count": 5,
   "metadata": {},
   "outputs": [
    {
     "name": "stdout",
     "output_type": "stream",
     "text": [
      "I. PATENTABILITY 1. Patent protection for technical inventions :  The four essential preconditions governing the patentability of inventions under the EPC are laid down inArt. 52(1) EPC, which reads: \"European patents shall be granted for any inventions, in all fields of technology, provided that they are new, involve an inventive step and are susceptible of industrial application.\" Art. 52(1) EPCexpresses the fundamental principle of a general entitlement to patent protection for any invention in all technical fields (seeG 5/83,OJ 1985, 64, point 21 et seq. of the Reasons;G 1/98,OJ 2000, 111, point 3.9 of the Reasons;G 1/03,OJ 2004, 413, point 2.2.2 of the Reasons;G 1/04,OJ 2006, 334, point 6 of the Reasons;T 154/04;OJ 2008, 46, 62, point 6 of the Reasons). Any limitation to the general entitlement to patent protection is thus not a matter of administrative or judicial discretion, but must have a clear legal basis in the EPC (seeG 2/12, of 25.03.2015,OJ 2016, A28;T 154/04).\n",
      "\n",
      "I. PATENTABILITY 2. Whether there is an invention under Art. 52(1) EPC :  Art. 52(2) EPCcontains a non-exhaustive list of\"non-inventions\", that is, subject-matter or activities not to be regarded as inventions within the meaning of paragraph 1. The exclusion from patentability of the subject-matter or activities referred to applies only to the extent that a European patent application or European patent relates to such subject-matter or activitiesas such(Art. 52(3) EPC; see alsoOJ SE 4/2007).Art. 52(2) EPCcovers subject-matter whose common feature is a substantial lack of technical character. The application ofArt. 52(1) EPCpresents a problem of construction as there was no legal or commonly accepted definition of the term \"invention\" at the time of conclusion of the Convention in 1973. Moreover, the EPO has not developed any such explicit definition since.Art. 52(2) EPCis merely a negative, non-exhaustive list of what should not be regarded as an invention within the meaning ofArt. 52(1) EPC. It was the clear intention of the contracting states that this list of \"excluded\" subject-matter should not be given too broad a scope of application, as follows from the legislative history ofArt. 52(2) EPC.Art. 52(3) EPCis a bar to a broad interpretation ofArt. 52(2) EPC(T 154/04,OJ 2008, 46, point 6 of the Reasons; see alsoG 2/12,OJ 2016, A28). The question of whether there is any invention at all within the meaning of Art. 52(1) is to be treated as distinct from the question of whether it is susceptible of industrial application, is new and involves an inventive step. InT 154/04, the board distinguished the concept of \"invention\" as a general and absolute requirement of patentability from the relative criteria, novelty and inventive step, (which, in an ordinary popular sense, were to be understood as the attributes of any invention), as well as from the requirement of industrial applicability.\n",
      "\n",
      "I. PATENTABILITY 3. Technical character as a requirement for an invention :  Technical character as a legal requirement for an invention was expressly confirmed by the Conference of the Contracting States to Revise the EPC of 20 to 29 November 2000. During the course of the revision of the EPC,Art. 52(1) EPCwas brought into line with Art. 27(1), first sentence, TRIPS with a view to enshrining the word \"technology\" in the basic provision of substantive European patent law, clearly defining the scope of the EPC, andexplicitlystating in the law that patent protection is available totechnical inventions of all kinds. The new wording ofArt. 52(1) EPCplainly expresses that patent protection is reserved for creations in the technical field (seeOJ SE 4/2007, 48). The revisedArt. 52 EPCapplies to European patents granted and European patent applications pending on 13 December 2007 and to applications filed on or after that date. It has been part of the European legal tradition that patent protection should be reserved for technical creations. It was indeed always common ground that creations in engineering and technology were entitled to patent protection under the EPC (see e. g.T 22/85,OJ 1990, 12;T 154/04,OJ 2008, 46). The use of the term \"invention\" inArt. 52(1) EPC 1973in conjunction with the so-called \"exclusion provisions\" ofArt. 52(2)and(3) EPC 1973was interpreted by the boards of appeal asimplyinga requirement of technical character or technicality to be fulfilled by an invention as claimed in order to be patentable (T 931/95,T 1173/97andT 935/97). Thus an invention may be an invention within the meaning ofArt. 52(1) EPCif, for example, a technical effect is achieved by the invention or iftechnical considerationsare required to carry out the invention. InT 1173/97(OJ 1999, 609) andT 935/97the board stated that within the context of the application of the EPC the technical character of an invention was generally accepted as an essential requirement for its patentability. InT 931/95(OJ 2001, 441) the board held that technical character was an implicit requirement of the EPC to be met by an invention in order to be an invention within the meaning ofArt. 52(1) EPC 1973(see alsoT 1543/06). InT 154/04(OJ 2008, 46) the board summarised the main principles underlying the relevant jurisprudence of the boards of appeal. The board held that \"technical character\" was animplicit requisiteof an \"invention\" within the meaning ofArt. 52(1) EPC 1973(requirement of \"technicality\").Art. 52(2) EPC 1973did not exclude from patentability any subject-matter or activity having a technical character, even if linked to items listed in this provision since these items wereonly excluded \"as such\"(Art. 52(3) EPC 1973). In examining the patentability of an invention in respect of a claim, the claim had to be construed to determine thetechnical featuresof the invention, i.e. the features which contributed to the technical character of the invention (see alsoT 931/95,OJ 2001, 441,T 914/02andT 1543/06). The board observed that the intention ofArt. 52(3) EPC 1973was clearly to ensure that anything which had previously been a patentable invention under conventional patentability criteria should remain patentable under the EPC. InT 619/02(OJ 2007, 63) the board stated that, as had long been accepted, (see in this respect decisionsT 22/85,OJ 1990, 12,T 931/95,OJ 2001, 441, andT 258/03,OJ 2004, 575), the technical character of an invention constituted a fundamental prerequisite inherent toArt. 52 EPC 1973– and was formulated as an explicit requirement inArt. 52(1) EPC. Thus, technical character constituted aconditio sine-qua-nonto be met by an invention susceptible of patent protection under the EPC. Additionally, the board noted that a technical invention is generally useful and practical within the generic meaning of these terms, but the reverse is not necessarily true, i.e. not every \"practical art\" and not every entity or activity that is practical or useful is necessarily technical in the patent law sense (seeT 388/04,OJ 2007, 16). It was noted that in some national patent law systems, \"useful\" is the counterpart to the requirement of industrial applicability set out inArt. 57 EPC 1973(see Note 5 to Art. 27(1) TRIPS); however, this special meaning of the term does not necessarily convey technical character either. Accordingly, considerations of usefulness and practicality are no substitute for, or criteria equivalent to the prerequisite of technical character inherent in the EPC. The board observed that although industrial applicability and technical character of an invention are intimately related to each other (T 854/90), they are not synonymous and constitute two distinct, non-equivalent requirements under the EPC 1973 (T 953/94).\n",
      "\n",
      "I. PATENTABILITY 4. Two-hurdle approach G 1/19 :  InG 1/19(OJ 2021, A77), the Enlarged Board of Appeal set out what is referred to as the two-hurdle approach: the twofold test for patent eligibility and for inventive step (using the COMVIK criteria). The Enlarged Board of Appeal stated that a shift may have taken place in the relative level of each of these two hurdles in the sense that it has become easier to clear the eligibility hurdle ofArt. 52 EPCand more difficult to pass the inventive step hurdle ofArt. 56 EPC. This chapter relates to the first hurdle; for the question of technicality in relation toArt. 56 EPC, see chapterI.D.9.2. The two-hurdle approach de facto entails three questions: (i) the invention’s eligibility underArt. 52 EPC, (ii) whether a feature contributes to the technical character of the invention and (iii) whether the invention is based on an inventive step vis-à-vis the closest prior art (G 1/19).\n",
      "\n",
      "I. PATENTABILITY 5. Assessment of technical character 5.1. Assessment without regard to the prior art :  In order to assess whether the claimed subject-matter was an invention within the meaning ofArt. 52(1) EPC 1973, the boards of appeal applied, in their earlier case law, what was called the \"contribution approach\", according to which an invention had a technical character if it provided a technical contribution to the state of the art in a field not excluded from patentability underArt. 52(2) EPC 1973(seeT 121/85;T 38/86,OJ 1990, 384;T 95/86;T 603/89,OJ 1992, 230;T 71/91;T 236/91;T 833/91;T 77/92). Thus, prior art was taken into account to some extent (T 258/03,OJ 2004, 575;T 769/92,OJ 1995, 525). Subsequent decisions found any comparison with the prior art to be inappropriate for determining whether or not there was an invention. InT 1173/97(OJ 1999, 609) the board consciously abandoned the \"contribution approach\" and found that compliance withArt. 52(2)and(3) EPCcan be established by features already known in the art. Determining the technical contribution an invention achieves with respect to the prior art is more appropriate for the purpose of examining novelty and inventive step than for deciding on possible exclusion underArt. 52(2)and(3) EPC 1973. InT 931/95(OJ 2001, 441) it was stated that there is no basis in the EPC for distinguishing between \"new features\" of an invention and features of that invention which are known from the prior art, when examining whether the invention concerned may be considered to be an invention within the meaning ofArt. 52(1) EPC 1973. Thus there is no basis in the EPC for applying the contribution approach for this purpose (see alsoT 1001/99;T 388/04,OJ 2007, 16;T 619/02,OJ 2007, 63;T 553/02;T 258/03,OJ 2004, 575). InT 1543/06the board found that the requirement of technical character was recognised as separate and independent of the remaining requirements ofArt. 52(1) EPC1973, in particular novelty and inventive step, and that compliance with it could therefore be assessed without having recourse to the prior art. InT 258/03(OJ 2004, 575; see alsoT 154/04,OJ 2008, 46), the board stated that the verification that claimed subject-matter is an invention within the meaning ofArt. 52(1) EPC 1973is, in principle, aprerequisitefor the examination in respect of novelty, inventive step and industrial application, since these latter requirements were defined only for inventions (seeArt. 54(1)EPC 1973,Art.56EPC 1973, andArt.57 EPC 1973). The structure of the EPC therefore suggests that it should be possible to determine whether subject-matter was excluded underArt. 52(2) EPC 1973without any knowledge of the state of the art (including common general knowledge). InG 1/19too, the Enlarged Board of Appeal summarised that the assessment of whether a method involving technical means is an invention within the meaning ofArt. 52(1) EPCis made without reference to the prior art (T 258/03;T 388/04). Only in the context of the second hurdle of the two-hurdle test is the invention considered in relation to the prior art.\n",
      "\n",
      "I. PATENTABILITY 5. Assessment of technical character 5.2. Concept of technical character in the case law :  Even in their leading decisions (G 3/08,G 2/07,G 1/19), the boards of appeal do not explicitly define in the case law how they understand the concept of technical character. Nor does the EPC prohibit the patenting of inventions that consist of a mix of technical and non-technical features. It is not necessary to give a relative weighting to technical and non-technical features. If the invention defined in the claim uses technical means, it can be patented provided it meets the requirements ofArt. 52to57 EPC(T 26/86). InG 1/19the Enlarged Board of Appeal held that a method involving technical means is an invention within the meaning ofArt. 52(1) EPC. This approach has sometimes been described as the \"any technical means\" or \"any hardware\" approach (G 3/08).\n",
      "\n",
      "I. PATENTABILITY 5. Assessment of technical character 5.2. Concept of technical character in the case law 5.2.1 Apparatus :  InT 931/95the board decided that an apparatus for carrying out an activity excluded as such from patentability byArt. 52(2)and(3) EPC 1973was not itself excluded from patentability. In particular, a claim directed to a computer loaded with a program was not excluded from patentability byArt. 52(2) EPC 1973even if the program itself would be, i.e. if the program caused no \"further technical effect\" when run (T 931/95,OJ 2001, 441; see alsoG 3/08date: 2010-05-12,OJ 2011, 10). InT 931/95the board held that an apparatus constituting a physical entity or concrete product, suitable for performing or supporting an economic activity, was an invention within the meaning ofArt. 52(1) EPC 1973. The board found that a computer system suitably programmed for use in a particular field, even if that was the field of business and economy, had the character of a concrete apparatus in the sense of a physical entity, human-made for a utilitarian purpose and was thus an invention within the meaning ofArt. 52(1) EPC 1973. This distinction with regard to patentability between a method for doing business and an apparatus suited to perform such a method was justified in the light of the wording ofArt. 52(2)(c) EPC 1973, according to which \"schemes, rules and methods\" were non-patentable categories in the field of economy and business, but the category of \"apparatus\" in the sense of \"physical entity\" or \"product\" was not mentioned inArt. 52(2) EPC 1973. This meant that, if a claim was directed to such an entity, the formal category of such a claim did in fact imply physical features of the claimed subject-matter which could qualify as technical features of the invention concerned and thus be relevant for its patentability. An apparatus constituting a physical entity or concrete product suitable for performing or supporting an economic activity, was an invention within the meaning ofArt. 52(1) EPC 1973. InT 258/03(OJ 2004, 575) the board was not convinced that the wording ofArt. 52(2)(c) EPC 1973, according to which \"schemes, rules and methods for performing mental acts, playing games or doing business\" shall not be regarded as inventions within the meaning ofArt. 52(1) EPC 1973, imposed a different treatment of claims directed to activities and claims directed to entities for carrying out these activities. What matters having regard to the concept of \"invention\" within the meaning ofArt. 52(1) EPC 1973is the presence of technical character which may be implied by thephysical featuresof an entity or thenature of an activity, or may be conferred on a non-technical activity by the use of technical means. The board held that the apparatus was an invention within the meaning ofArt. 52(1) EPC 1973, since it comprised features which were clearly technical such as a \"server computer\", \"client computers\" and a \"network\". The board stated that this line of reasoning was independent of the category of the claim. InT 2258/10of 4 October 2011 the board found thatany apparatusconstituting a physical entity or concrete product has technical character. A cooking vessel clearly falls within this definition, and thus per se has technical character.\n",
      "\n",
      "I. PATENTABILITY 5. Assessment of technical character 5.2. Concept of technical character in the case law 5.2.2 Methods  a) Methods involving technical means :  It is established case law of the boards of appeal that claimed subject-matter specifying at least one feature not falling within the ambit ofArt. 52(2) EPCis not excluded from patentability by the provisions ofArt. 52(2)and(3) EPC(G 3/08date: 2010-05-12,OJ 2011, 10;T 258/03;T 424/03;T 1658/06;T 313/10). According toT 258/03(OJ 2004, 575) technical character results either from thephysical featuresof an entity or (for a method) from theuse of technical means.T 258/03came to the conclusion that any claim involving technical means is not excluded from patentability byArt. 52(2) EPC, and since a claim directed to a method of operating a computer involved a computer it could not be excluded from patentability byArt. 52(2) EPC(see alsoG 3/08date: 2010-05-12). The board noted that previous decisions of the boards of appeal had held that the use of technical means for carrying out a method for performing mental acts, partly or entirely without human intervention, might, having regard toArt. 52(3) EPC 1973, render such a method a technical process or method and therefore an invention within the meaning ofArt. 52(1) EPC 1973(T 38/86,OJ 1990, 384;T 769/92). However, method steps consisting of modifications to a business scheme and aimed at circumventing a technical problem rather than solving it by technical means could not contribute to the technical character of the subject-matter claimed. The board inT 258/03found that the technical character is determined by the presence or use oftechnical means alone, irrespective of purpose, even if that purpose is purely non-technical. This finding was irrespective of whether or not it can be associated with a technical effect or serves a technical purpose or function. The board stated that what mattered, having regard to the concept of \"invention\" within the meaning ofArt. 52(1) EPC 1973, was the presence oftechnical characterwhich could be inferred from the physical features of an entity or the nature of an activity, or could be conferred on a non-technical activity by the use of technical means. In particular, the board held that the latter could not be considered to be a non-invention \"as such\" within the meaning ofArt. 52(2)and(3) EPC 1973. Hence, in the board's view, activities falling within the concept of a non-invention \"as such\" would typically representpurely abstract concepts devoid of any technical implications. The board stated that its comparatively broad interpretation of the term \"invention\" inArt. 52(1) EPC 1973would include activities which are so familiar that their technical character tends to be overlooked, such as the act of writing using pen and paper. However, this did not imply that all methods involving the use of technical means were patentable. They still have to be new, represent a non-obvious technical solution to a technical problem, and be susceptible of industrial application. The consequence was that, with regard to methods,T 931/95(OJ 2001, 441) was explicitly overturned byT 258/03(point 1 of the Headnote). In decisionT 931/95the board had stated thatusing technical meansfor a purely non-technical purpose and/or for processing purely non-technical informationdid not necessarilyconfer technical character on any such individual steps of use or on the method as a whole. The mere occurrence of technical features in a claim did not turn the subject-matter of the claim into an invention within the meaning ofArt. 52(1) EPC 1973. InT 38/86(OJ 1990, 384) the board stated that theuse of technical meansfor carrying out a method, partly or entirely without human intervention, which, if performed by a human being, would require them to perform mental acts, might, having regard toArt. 52(3) EPC 1973, render such a method a technical process or method and thus an invention within the meaning ofArt. 52(1) EPC 1973.\n",
      "\n",
      "I. PATENTABILITY 5. Assessment of technical character 5.2. Concept of technical character in the case law 5.2.2 Methods  b) Methods used in a technical process carried out on a physical entity :  In accordance with the established case law, if a method which is not per se \"technical\" e.g. a mathematical method, is used in a technical process, and this process is carried out on a physical entity by some technical means implementing the method and provides as its result a change in that entity, it contributes to the technical character of the invention as a whole (T 1814/07). Any claimed subject-matter defining or using technical means is an invention within the meaning ofArt. 52(1) EPC(seeT 424/03andT 258/03, and confirmed inG 3/08date: 2010-05-12,OJ 2011, 10). Therefore, the mere inclusion of a computer, a computer network, a readable medium carrying a program, etc. in a claim lends technical character to the claimed subject-matter.\n",
      "\n",
      "I. PATENTABILITY 5. Assessment of technical character 5.2. Concept of technical character in the case law 5.2.3 Technical considerations and technical implementations :  There might be an invention within the meaning ofArt. 52(1) EPC 1973if, for example, atechnical effectwas achieved by the invention or iftechnical considerationswere required to carry out the invention (seeT 931/95,OJ 2001, 441). InG 3/08date: 2010-05-12(OJ 2011, 10) the Enlarged Board of Appeal could not identify a divergence in the case law of the boards of appeal, but noted that there was at least the potential for confusion, arising from the assumption thatany technical considerationsare sufficient to confer technical character on claimed subject-matter, a position which was apparently adopted in some cases (e.g.T 769/92). InT 1173/97the board noted that all computer programs have technical effects, since for example when different programs are executed they cause different electrical currents to circulate in the computer they run on. However such technical effects are not sufficient to confer \"technical character\" on the programs; they must causefurther technical effects. Thus, although it may be said that all computer programming involves technical considerations since it is concerned with defining a method which can be carried out by a machine, that in itself is not enough to demonstrate that the program which results from the programming has technical character; the programmer must have had technical considerations beyond \"merely\" finding a computer algorithm to carry out some procedure (G 3/08date: 2010-05-12, point 13.5 of the Reasons; see alsoT 1358/09). InT 914/02the involvement of technical considerations, however, wasnot sufficientfor a method, which might exclusively be carried out mentally, to have technical character. Technical character could be provided through the technical implementation of the method, resulting in the method providing atangible, technical effect, such as the provision of a physical entity as the resulting product, or a non-abstract activity, such as through the use of technical means. The board rejected a claim directed to an invention involving technical considerations and encompassing technical embodiments on the grounds that the invention as claimed could also be exclusively performed by purely mental acts excluded from patentability underArt. 52(2)(c) EPC 1973. InT 619/02(OJ 2007, 63) the board stated that the prerequisite of technical character inherent to the EPC cannot be considered to be fulfilled by an invention, as claimed, which, although possibly encompassing technical embodiments, also encompasses ways of implementing it that do not qualify as technical. It followed that an invention is susceptible of patent protection within the meaning ofArt. 52(1) EPC 1973if, and only if the invention as claimed includes aspects that impart technical character to essentially all ways of performing the invention. An analogous condition applies in fact to the exclusions from patentability underArt. 52(2) EPC 1973, as illustrated by decisionT 914/02in which the corresponding board rejected a claim directed to an invention involving technical considerations and encompassing technical embodiments on the grounds that the invention as claimed could also be exclusively performed by purely mental acts excluded from patentability underArt. 52(2)(c) EPC1973(see alsoT 388/04,OJ 2007, 16, point 3 of the Reasons). InT 306/04the board pointed out that themere possibilityof serving a technical purpose or of solving a technical problem was not sufficient to avoid exclusion underArt. 52(2)and(3) EPC 1973(see alsoT 388/04,OJ 2007, 16;T 1410/07). InT 471/05the fact that the claimed method encompassed non-excluded implementations did not overcome the fact that the claimed method also encompassed excluded subject-matter (T 453/91;T 914/02, points 2 and 3 of the Reasons;T 388/04,OJ 2007, 16;T 930/05). Thus, as long as the claimed design method was not confined to physical, technical implementations, the claimed subject-matter encompassed embodiments excluded from patentability underArt. 52(1)to52(3) EPC 1973and was not entitled to patent protection under the EPC. InT 1234/17the board essentially held that it was not enough that an algorithm makes use of a technical quantity in the form of a measured physical parameter (weather data). What matters was whether the algorithm reflects any additional technical considerations about the parameter, such as its measurement. In the case in hand there were none, in contrast toT 2079/10.\n",
      "\n"
     ]
    }
   ],
   "source": [
    "for i in range(10):\n",
    "    print(data[i])\n",
    "    print()"
   ]
  },
  {
   "cell_type": "code",
   "execution_count": 13,
   "metadata": {},
   "outputs": [],
   "source": [
    "import ollama\n",
    "import h5py\n",
    "import nltk\n",
    "# nltk.download('stopwords')\n",
    "# from nltk.corpus import stopwords\n",
    "import numpy as np\n"
   ]
  },
  {
   "cell_type": "code",
   "execution_count": null,
   "metadata": {},
   "outputs": [],
   "source": [
    "# stop_words = set(stopwords.words('english'))\n",
    "\n",
    "# import re\n",
    "\n",
    "# data_clean = []\n",
    "\n",
    "# def clean_text(text):\n",
    "#     \"\"\"\n",
    "#     Custom function to clean text by removing special characters, extra spaces, and digits.\n",
    "#     \"\"\"\n",
    "#     text = re.sub(r'[^a-zA-Z\\s]', '', text)  \n",
    "#     text = re.sub(r'\\s+', ' ', text).strip()\n",
    "#     return text\n",
    "\n",
    "# for line in data:\n",
    "#     line = line.lower()\n",
    "#     line = clean_text(line)\n",
    "#     line = ' '.join([word for word in line.split() if word not in stop_words])  # Remove stopwords\n",
    "#     data_clean.append(line)\n"
   ]
  },
  {
   "cell_type": "code",
   "execution_count": null,
   "metadata": {},
   "outputs": [
    {
     "name": "stdout",
     "output_type": "stream",
     "text": [
      "patentability patent protection technical inventions four essential preconditions governing patentability inventions epc laid inart epc reads european patents shall granted inventions fields technology provided new involve inventive step susceptible industrial application art epcexpresses fundamental principle general entitlement patent protection invention technical fields seeg oj point et seq reasonsg oj point reasonsg oj point reasonsg oj point reasonst oj point reasons limitation general entitlement patent protection thus matter administrative judicial discretion must clear legal basis epc seeg oj\n",
      "\n",
      "patentability whether invention art epc art epccontains nonexhaustive list ofnoninventions subjectmatter activities regarded inventions within meaning paragraph exclusion patentability subjectmatter activities referred applies extent european patent application european patent relates subjectmatter activitiesas suchart epc see alsooj se art epccovers subjectmatter whose common feature substantial lack technical character application ofart epcpresents problem construction legal commonly accepted definition term invention time conclusion convention moreover epo developed explicit definition sinceart epcis merely negative nonexhaustive list regarded invention within meaning ofart epc clear intention contracting states list excluded subjectmatter given broad scope application follows legislative history ofart epcart epcis bar broad interpretation ofart epct oj point reasons see alsog oj question whether invention within meaning art treated distinct question whether susceptible industrial application new involves inventive step int board distinguished concept invention general absolute requirement patentability relative criteria novelty inventive step ordinary popular sense understood attributes invention well requirement industrial applicability\n",
      "\n",
      "patentability technical character requirement invention technical character legal requirement invention expressly confirmed conference contracting states revise epc november course revision epcart epcwas brought line art first sentence trips view enshrining word technology basic provision substantive european patent law clearly defining scope epc andexplicitlystating law patent protection available totechnical inventions kinds new wording ofart epcplainly expresses patent protection reserved creations technical field seeoj se revisedart epcapplies european patents granted european patent applications pending december applications filed date part european legal tradition patent protection reserved technical creations indeed always common ground creations engineering technology entitled patent protection epc see e gt oj oj use term invention inart epc conjunction socalled exclusion provisions ofart epc interpreted boards appeal asimplyinga requirement technical character technicality fulfilled invention claimed order patentable andt thus invention may invention within meaning ofart epcif example technical effect achieved invention iftechnical considerationsare required carry invention int oj andt board stated within context application epc technical character invention generally accepted essential requirement patentability int oj board held technical character implicit requirement epc met invention order invention within meaning ofart epc see alsot int oj board summarised main principles underlying relevant jurisprudence boards appeal board held technical character animplicit requisiteof invention within meaning ofart epc requirement technicalityart epc exclude patentability subjectmatter activity technical character even linked items listed provision since items wereonly excluded suchart epc examining patentability invention respect claim claim construed determine thetechnical featuresof invention ie features contributed technical character invention see alsot oj andt board observed intention ofart epc clearly ensure anything previously patentable invention conventional patentability criteria remain patentable epc int oj board stated long accepted see respect decisionst oj oj andt oj technical character invention constituted fundamental prerequisite inherent toart epc formulated explicit requirement inart epc thus technical character constituted aconditio sinequanonto met invention susceptible patent protection epc additionally board noted technical invention generally useful practical within generic meaning terms reverse necessarily true ie every practical art every entity activity practical useful necessarily technical patent law sense seet oj noted national patent law systems useful counterpart requirement industrial applicability set inart epc see note art trips however special meaning term necessarily convey technical character either accordingly considerations usefulness practicality substitute criteria equivalent prerequisite technical character inherent epc board observed although industrial applicability technical character invention intimately related synonymous constitute two distinct nonequivalent requirements epc\n",
      "\n",
      "patentability twohurdle approach g ing oj enlarged board appeal set referred twohurdle approach twofold test patent eligibility inventive step using comvik criteria enlarged board appeal stated shift may taken place relative level two hurdles sense become easier clear eligibility hurdle ofart epcand difficult pass inventive step hurdle ofart epc chapter relates first hurdle question technicality relation toart epc see chapterid twohurdle approach de facto entails three questions inventions eligibility underart epc ii whether feature contributes technical character invention iii whether invention based inventive step visvis closest prior art g\n",
      "\n",
      "patentability assessment technical character assessment without regard prior art order assess whether claimed subjectmatter invention within meaning ofart epc boards appeal applied earlier case law called contribution approach according invention technical character provided technical contribution state art field excluded patentability underart epc seet oj oj thus prior art taken account extent oj oj subsequent decisions found comparison prior art inappropriate determining whether invention int oj board consciously abandoned contribution approach found compliance withart epccan established features already known art determining technical contribution invention achieves respect prior art appropriate purpose examining novelty inventive step deciding possible exclusion underart epc int oj stated basis epc distinguishing new features invention features invention known prior art examining whether invention concerned may considered invention within meaning ofart epc thus basis epc applying contribution approach purpose see alsot oj oj oj int board found requirement technical character recognised separate independent remaining requirements ofart epc particular novelty inventive step compliance could therefore assessed without recourse prior art int oj see alsot oj board stated verification claimed subjectmatter invention within meaning ofart epc principle aprerequisitefor examination respect novelty inventive step industrial application since latter requirements defined inventions seeart epc artepc andart epc structure epc therefore suggests possible determine whether subjectmatter excluded underart epc without knowledge state art including common general knowledge ing enlarged board appeal summarised assessment whether method involving technical means invention within meaning ofart epcis made without reference prior art context second hurdle twohurdle test invention considered relation prior art\n",
      "\n",
      "patentability assessment technical character concept technical character case law even leading decisions g g g boards appeal explicitly define case law understand concept technical character epc prohibit patenting inventions consist mix technical nontechnical features necessary give relative weighting technical nontechnical features invention defined claim uses technical means patented provided meets requirements ofart epct ing enlarged board appeal held method involving technical means invention within meaning ofart epc approach sometimes described technical means hardware approach g\n",
      "\n",
      "patentability assessment technical character concept technical character case law apparatus int board decided apparatus carrying activity excluded patentability byart epc excluded patentability particular claim directed computer loaded program excluded patentability byart epc even program would ie program caused technical effect run oj see alsog date oj int board held apparatus constituting physical entity concrete product suitable performing supporting economic activity invention within meaning ofart epc board found computer system suitably programmed use particular field even field business economy character concrete apparatus sense physical entity humanmade utilitarian purpose thus invention within meaning ofart epc distinction regard patentability method business apparatus suited perform method justified light wording ofart c epc according schemes rules methods nonpatentable categories field economy business category apparatus sense physical entity product mentioned inart epc meant claim directed entity formal category claim fact imply physical features claimed subjectmatter could qualify technical features invention concerned thus relevant patentability apparatus constituting physical entity concrete product suitable performing supporting economic activity invention within meaning ofart epc int oj board convinced wording ofart c epc according schemes rules methods performing mental acts playing games business shall regarded inventions within meaning ofart epc imposed different treatment claims directed activities claims directed entities carrying activities matters regard concept invention within meaning ofart epc presence technical character may implied thephysical featuresof entity thenature activity may conferred nontechnical activity use technical means board held apparatus invention within meaning ofart epc since comprised features clearly technical server computer client computers network board stated line reasoning independent category claim int october board found thatany apparatusconstituting physical entity concrete product technical character cooking vessel clearly falls within definition thus per se technical character\n",
      "\n",
      "patentability assessment technical character concept technical character case law methods methods involving technical means established case law boards appeal claimed subjectmatter specifying least one feature falling within ambit ofart epcis excluded patentability provisions ofart epcg date oj according tot oj technical character results either thephysical featuresof entity method theuse technical meanst came conclusion claim involving technical means excluded patentability byart epc since claim directed method operating computer involved computer could excluded patentability byart epcsee alsog date board noted previous decisions boards appeal held use technical means carrying method performing mental acts partly entirely without human intervention might regard toart epc render method technical process method therefore invention within meaning ofart epc oj however method steps consisting modifications business scheme aimed circumventing technical problem rather solving technical means could contribute technical character subjectmatter claimed board int found technical character determined presence use oftechnical means alone irrespective purpose even purpose purely nontechnical finding irrespective whether associated technical effect serves technical purpose function board stated mattered regard concept invention within meaning ofart epc presence oftechnical characterwhich could inferred physical features entity nature activity could conferred nontechnical activity use technical means particular board held latter could considered noninvention within meaning ofart epc hence boards view activities falling within concept noninvention would typically representpurely abstract concepts devoid technical implications board stated comparatively broad interpretation term invention inart epc would include activities familiar technical character tends overlooked act writing using pen paper however imply methods involving use technical means patentable still new represent nonobvious technical solution technical problem susceptible industrial application consequence regard methodst oj explicitly overturned byt point headnote decisiont board stated thatusing technical meansfor purely nontechnical purpose andor processing purely nontechnical informationdid necessarilyconfer technical character individual steps use method whole mere occurrence technical features claim turn subjectmatter claim invention within meaning ofart epc int oj board stated theuse technical meansfor carrying method partly entirely without human intervention performed human would require perform mental acts might regard toart epc render method technical process method thus invention within meaning ofart epc\n",
      "\n",
      "patentability assessment technical character concept technical character case law methods b methods used technical process carried physical entity accordance established case law method per se technical eg mathematical method used technical process process carried physical entity technical means implementing method provides result change entity contributes technical character invention whole claimed subjectmatter defining using technical means invention within meaning ofart epcseet andt confirmed ing date oj therefore mere inclusion computer computer network readable medium carrying program etc claim lends technical character claimed subjectmatter\n",
      "\n",
      "patentability assessment technical character concept technical character case law technical considerations technical implementations might invention within meaning ofart epc example atechnical effectwas achieved invention iftechnical considerationswere required carry invention seet oj ing date oj enlarged board appeal could identify divergence case law boards appeal noted least potential confusion arising assumption thatany technical considerationsare sufficient confer technical character claimed subjectmatter position apparently adopted cases egt int board noted computer programs technical effects since example different programs executed cause different electrical currents circulate computer run however technical effects sufficient confer technical character programs must causefurther technical effects thus although may said computer programming involves technical considerations since concerned defining method carried machine enough demonstrate program results programming technical character programmer must technical considerations beyond merely finding computer algorithm carry procedure g date point reasons see alsot int involvement technical considerations however wasnot sufficientfor method might exclusively carried mentally technical character technical character could provided technical implementation method resulting method providing atangible technical effect provision physical entity resulting product nonabstract activity use technical means board rejected claim directed invention involving technical considerations encompassing technical embodiments grounds invention claimed could also exclusively performed purely mental acts excluded patentability underart c epc int oj board stated prerequisite technical character inherent epc cannot considered fulfilled invention claimed although possibly encompassing technical embodiments also encompasses ways implementing qualify technical followed invention susceptible patent protection within meaning ofart epc invention claimed includes aspects impart technical character essentially ways performing invention analogous condition applies fact exclusions patentability underart epc illustrated decisiont corresponding board rejected claim directed invention involving technical considerations encompassing technical embodiments grounds invention claimed could also exclusively performed purely mental acts excluded patentability underart c epcsee alsot oj point reasons int board pointed themere possibilityof serving technical purpose solving technical problem sufficient avoid exclusion underart epc see alsot oj int fact claimed method encompassed nonexcluded implementations overcome fact claimed method also encompassed excluded subjectmatter points reasonst oj thus long claimed design method confined physical technical implementations claimed subjectmatter encompassed embodiments excluded patentability underart epc entitled patent protection epc int board essentially held enough algorithm makes use technical quantity form measured physical parameter weather data matters whether algorithm reflects additional technical considerations parameter measurement case hand none contrast tot\n",
      "\n"
     ]
    }
   ],
   "source": [
    "# for i in range(10):\n",
    "#     print(data_clean[i])\n",
    "#     print()"
   ]
  },
  {
   "cell_type": "code",
   "execution_count": 16,
   "metadata": {},
   "outputs": [
    {
     "ename": "KeyboardInterrupt",
     "evalue": "",
     "output_type": "error",
     "traceback": [
      "\u001b[0;31m---------------------------------------------------------------------------\u001b[0m",
      "\u001b[0;31mKeyboardInterrupt\u001b[0m                         Traceback (most recent call last)",
      "Cell \u001b[0;32mIn[16], line 3\u001b[0m\n\u001b[1;32m      1\u001b[0m embeddings_list \u001b[38;5;241m=\u001b[39m []\n\u001b[1;32m      2\u001b[0m \u001b[38;5;28;01mfor\u001b[39;00m line \u001b[38;5;129;01min\u001b[39;00m data:\n\u001b[0;32m----> 3\u001b[0m     response \u001b[38;5;241m=\u001b[39m \u001b[43mollama\u001b[49m\u001b[38;5;241;43m.\u001b[39;49m\u001b[43membeddings\u001b[49m\u001b[43m(\u001b[49m\u001b[43mmodel\u001b[49m\u001b[38;5;241;43m=\u001b[39;49m\u001b[38;5;124;43m'\u001b[39;49m\u001b[38;5;124;43mnomic-embed-text\u001b[39;49m\u001b[38;5;124;43m'\u001b[39;49m\u001b[43m,\u001b[49m\u001b[43m \u001b[49m\u001b[43mprompt\u001b[49m\u001b[38;5;241;43m=\u001b[39;49m\u001b[43mline\u001b[49m\u001b[43m)\u001b[49m\n\u001b[1;32m      4\u001b[0m     embeddings_list\u001b[38;5;241m.\u001b[39mappend(response\u001b[38;5;241m.\u001b[39membedding)\n\u001b[1;32m      6\u001b[0m embeddings_array \u001b[38;5;241m=\u001b[39m np\u001b[38;5;241m.\u001b[39marray(embeddings_list)\n",
      "File \u001b[0;32m~/Documents/data-battle-2025/mcq-extr/.venv/lib/python3.10/site-packages/ollama/_client.py:380\u001b[0m, in \u001b[0;36mClient.embeddings\u001b[0;34m(self, model, prompt, options, keep_alive)\u001b[0m\n\u001b[1;32m    370\u001b[0m \u001b[38;5;28;01mdef\u001b[39;00m\u001b[38;5;250m \u001b[39m\u001b[38;5;21membeddings\u001b[39m(\n\u001b[1;32m    371\u001b[0m   \u001b[38;5;28mself\u001b[39m,\n\u001b[1;32m    372\u001b[0m   model: \u001b[38;5;28mstr\u001b[39m \u001b[38;5;241m=\u001b[39m \u001b[38;5;124m'\u001b[39m\u001b[38;5;124m'\u001b[39m,\n\u001b[0;32m   (...)\u001b[0m\n\u001b[1;32m    375\u001b[0m   keep_alive: Optional[Union[\u001b[38;5;28mfloat\u001b[39m, \u001b[38;5;28mstr\u001b[39m]] \u001b[38;5;241m=\u001b[39m \u001b[38;5;28;01mNone\u001b[39;00m,\n\u001b[1;32m    376\u001b[0m ) \u001b[38;5;241m-\u001b[39m\u001b[38;5;241m>\u001b[39m EmbeddingsResponse:\n\u001b[1;32m    377\u001b[0m \u001b[38;5;250m  \u001b[39m\u001b[38;5;124;03m\"\"\"\u001b[39;00m\n\u001b[1;32m    378\u001b[0m \u001b[38;5;124;03m  Deprecated in favor of `embed`.\u001b[39;00m\n\u001b[1;32m    379\u001b[0m \u001b[38;5;124;03m  \"\"\"\u001b[39;00m\n\u001b[0;32m--> 380\u001b[0m   \u001b[38;5;28;01mreturn\u001b[39;00m \u001b[38;5;28;43mself\u001b[39;49m\u001b[38;5;241;43m.\u001b[39;49m\u001b[43m_request\u001b[49m\u001b[43m(\u001b[49m\n\u001b[1;32m    381\u001b[0m \u001b[43m    \u001b[49m\u001b[43mEmbeddingsResponse\u001b[49m\u001b[43m,\u001b[49m\n\u001b[1;32m    382\u001b[0m \u001b[43m    \u001b[49m\u001b[38;5;124;43m'\u001b[39;49m\u001b[38;5;124;43mPOST\u001b[39;49m\u001b[38;5;124;43m'\u001b[39;49m\u001b[43m,\u001b[49m\n\u001b[1;32m    383\u001b[0m \u001b[43m    \u001b[49m\u001b[38;5;124;43m'\u001b[39;49m\u001b[38;5;124;43m/api/embeddings\u001b[39;49m\u001b[38;5;124;43m'\u001b[39;49m\u001b[43m,\u001b[49m\n\u001b[1;32m    384\u001b[0m \u001b[43m    \u001b[49m\u001b[43mjson\u001b[49m\u001b[38;5;241;43m=\u001b[39;49m\u001b[43mEmbeddingsRequest\u001b[49m\u001b[43m(\u001b[49m\n\u001b[1;32m    385\u001b[0m \u001b[43m      \u001b[49m\u001b[43mmodel\u001b[49m\u001b[38;5;241;43m=\u001b[39;49m\u001b[43mmodel\u001b[49m\u001b[43m,\u001b[49m\n\u001b[1;32m    386\u001b[0m \u001b[43m      \u001b[49m\u001b[43mprompt\u001b[49m\u001b[38;5;241;43m=\u001b[39;49m\u001b[43mprompt\u001b[49m\u001b[43m,\u001b[49m\n\u001b[1;32m    387\u001b[0m \u001b[43m      \u001b[49m\u001b[43moptions\u001b[49m\u001b[38;5;241;43m=\u001b[39;49m\u001b[43moptions\u001b[49m\u001b[43m,\u001b[49m\n\u001b[1;32m    388\u001b[0m \u001b[43m      \u001b[49m\u001b[43mkeep_alive\u001b[49m\u001b[38;5;241;43m=\u001b[39;49m\u001b[43mkeep_alive\u001b[49m\u001b[43m,\u001b[49m\n\u001b[1;32m    389\u001b[0m \u001b[43m    \u001b[49m\u001b[43m)\u001b[49m\u001b[38;5;241;43m.\u001b[39;49m\u001b[43mmodel_dump\u001b[49m\u001b[43m(\u001b[49m\u001b[43mexclude_none\u001b[49m\u001b[38;5;241;43m=\u001b[39;49m\u001b[38;5;28;43;01mTrue\u001b[39;49;00m\u001b[43m)\u001b[49m\u001b[43m,\u001b[49m\n\u001b[1;32m    390\u001b[0m \u001b[43m  \u001b[49m\u001b[43m)\u001b[49m\n",
      "File \u001b[0;32m~/Documents/data-battle-2025/mcq-extr/.venv/lib/python3.10/site-packages/ollama/_client.py:178\u001b[0m, in \u001b[0;36mClient._request\u001b[0;34m(self, cls, stream, *args, **kwargs)\u001b[0m\n\u001b[1;32m    174\u001b[0m         \u001b[38;5;28;01myield\u001b[39;00m \u001b[38;5;28mcls\u001b[39m(\u001b[38;5;241m*\u001b[39m\u001b[38;5;241m*\u001b[39mpart)\n\u001b[1;32m    176\u001b[0m   \u001b[38;5;28;01mreturn\u001b[39;00m inner()\n\u001b[0;32m--> 178\u001b[0m \u001b[38;5;28;01mreturn\u001b[39;00m \u001b[38;5;28mcls\u001b[39m(\u001b[38;5;241m*\u001b[39m\u001b[38;5;241m*\u001b[39m\u001b[38;5;28;43mself\u001b[39;49m\u001b[38;5;241;43m.\u001b[39;49m\u001b[43m_request_raw\u001b[49m\u001b[43m(\u001b[49m\u001b[38;5;241;43m*\u001b[39;49m\u001b[43margs\u001b[49m\u001b[43m,\u001b[49m\u001b[43m \u001b[49m\u001b[38;5;241;43m*\u001b[39;49m\u001b[38;5;241;43m*\u001b[39;49m\u001b[43mkwargs\u001b[49m\u001b[43m)\u001b[49m\u001b[38;5;241m.\u001b[39mjson())\n",
      "File \u001b[0;32m~/Documents/data-battle-2025/mcq-extr/.venv/lib/python3.10/site-packages/ollama/_client.py:118\u001b[0m, in \u001b[0;36mClient._request_raw\u001b[0;34m(self, *args, **kwargs)\u001b[0m\n\u001b[1;32m    116\u001b[0m \u001b[38;5;28;01mdef\u001b[39;00m\u001b[38;5;250m \u001b[39m\u001b[38;5;21m_request_raw\u001b[39m(\u001b[38;5;28mself\u001b[39m, \u001b[38;5;241m*\u001b[39margs, \u001b[38;5;241m*\u001b[39m\u001b[38;5;241m*\u001b[39mkwargs):\n\u001b[1;32m    117\u001b[0m   \u001b[38;5;28;01mtry\u001b[39;00m:\n\u001b[0;32m--> 118\u001b[0m     r \u001b[38;5;241m=\u001b[39m \u001b[38;5;28;43mself\u001b[39;49m\u001b[38;5;241;43m.\u001b[39;49m\u001b[43m_client\u001b[49m\u001b[38;5;241;43m.\u001b[39;49m\u001b[43mrequest\u001b[49m\u001b[43m(\u001b[49m\u001b[38;5;241;43m*\u001b[39;49m\u001b[43margs\u001b[49m\u001b[43m,\u001b[49m\u001b[43m \u001b[49m\u001b[38;5;241;43m*\u001b[39;49m\u001b[38;5;241;43m*\u001b[39;49m\u001b[43mkwargs\u001b[49m\u001b[43m)\u001b[49m\n\u001b[1;32m    119\u001b[0m     r\u001b[38;5;241m.\u001b[39mraise_for_status()\n\u001b[1;32m    120\u001b[0m     \u001b[38;5;28;01mreturn\u001b[39;00m r\n",
      "File \u001b[0;32m~/Documents/data-battle-2025/mcq-extr/.venv/lib/python3.10/site-packages/httpx/_client.py:825\u001b[0m, in \u001b[0;36mClient.request\u001b[0;34m(self, method, url, content, data, files, json, params, headers, cookies, auth, follow_redirects, timeout, extensions)\u001b[0m\n\u001b[1;32m    810\u001b[0m     warnings\u001b[38;5;241m.\u001b[39mwarn(message, \u001b[38;5;167;01mDeprecationWarning\u001b[39;00m, stacklevel\u001b[38;5;241m=\u001b[39m\u001b[38;5;241m2\u001b[39m)\n\u001b[1;32m    812\u001b[0m request \u001b[38;5;241m=\u001b[39m \u001b[38;5;28mself\u001b[39m\u001b[38;5;241m.\u001b[39mbuild_request(\n\u001b[1;32m    813\u001b[0m     method\u001b[38;5;241m=\u001b[39mmethod,\n\u001b[1;32m    814\u001b[0m     url\u001b[38;5;241m=\u001b[39murl,\n\u001b[0;32m   (...)\u001b[0m\n\u001b[1;32m    823\u001b[0m     extensions\u001b[38;5;241m=\u001b[39mextensions,\n\u001b[1;32m    824\u001b[0m )\n\u001b[0;32m--> 825\u001b[0m \u001b[38;5;28;01mreturn\u001b[39;00m \u001b[38;5;28;43mself\u001b[39;49m\u001b[38;5;241;43m.\u001b[39;49m\u001b[43msend\u001b[49m\u001b[43m(\u001b[49m\u001b[43mrequest\u001b[49m\u001b[43m,\u001b[49m\u001b[43m \u001b[49m\u001b[43mauth\u001b[49m\u001b[38;5;241;43m=\u001b[39;49m\u001b[43mauth\u001b[49m\u001b[43m,\u001b[49m\u001b[43m \u001b[49m\u001b[43mfollow_redirects\u001b[49m\u001b[38;5;241;43m=\u001b[39;49m\u001b[43mfollow_redirects\u001b[49m\u001b[43m)\u001b[49m\n",
      "File \u001b[0;32m~/Documents/data-battle-2025/mcq-extr/.venv/lib/python3.10/site-packages/httpx/_client.py:914\u001b[0m, in \u001b[0;36mClient.send\u001b[0;34m(self, request, stream, auth, follow_redirects)\u001b[0m\n\u001b[1;32m    910\u001b[0m \u001b[38;5;28mself\u001b[39m\u001b[38;5;241m.\u001b[39m_set_timeout(request)\n\u001b[1;32m    912\u001b[0m auth \u001b[38;5;241m=\u001b[39m \u001b[38;5;28mself\u001b[39m\u001b[38;5;241m.\u001b[39m_build_request_auth(request, auth)\n\u001b[0;32m--> 914\u001b[0m response \u001b[38;5;241m=\u001b[39m \u001b[38;5;28;43mself\u001b[39;49m\u001b[38;5;241;43m.\u001b[39;49m\u001b[43m_send_handling_auth\u001b[49m\u001b[43m(\u001b[49m\n\u001b[1;32m    915\u001b[0m \u001b[43m    \u001b[49m\u001b[43mrequest\u001b[49m\u001b[43m,\u001b[49m\n\u001b[1;32m    916\u001b[0m \u001b[43m    \u001b[49m\u001b[43mauth\u001b[49m\u001b[38;5;241;43m=\u001b[39;49m\u001b[43mauth\u001b[49m\u001b[43m,\u001b[49m\n\u001b[1;32m    917\u001b[0m \u001b[43m    \u001b[49m\u001b[43mfollow_redirects\u001b[49m\u001b[38;5;241;43m=\u001b[39;49m\u001b[43mfollow_redirects\u001b[49m\u001b[43m,\u001b[49m\n\u001b[1;32m    918\u001b[0m \u001b[43m    \u001b[49m\u001b[43mhistory\u001b[49m\u001b[38;5;241;43m=\u001b[39;49m\u001b[43m[\u001b[49m\u001b[43m]\u001b[49m\u001b[43m,\u001b[49m\n\u001b[1;32m    919\u001b[0m \u001b[43m\u001b[49m\u001b[43m)\u001b[49m\n\u001b[1;32m    920\u001b[0m \u001b[38;5;28;01mtry\u001b[39;00m:\n\u001b[1;32m    921\u001b[0m     \u001b[38;5;28;01mif\u001b[39;00m \u001b[38;5;129;01mnot\u001b[39;00m stream:\n",
      "File \u001b[0;32m~/Documents/data-battle-2025/mcq-extr/.venv/lib/python3.10/site-packages/httpx/_client.py:942\u001b[0m, in \u001b[0;36mClient._send_handling_auth\u001b[0;34m(self, request, auth, follow_redirects, history)\u001b[0m\n\u001b[1;32m    939\u001b[0m request \u001b[38;5;241m=\u001b[39m \u001b[38;5;28mnext\u001b[39m(auth_flow)\n\u001b[1;32m    941\u001b[0m \u001b[38;5;28;01mwhile\u001b[39;00m \u001b[38;5;28;01mTrue\u001b[39;00m:\n\u001b[0;32m--> 942\u001b[0m     response \u001b[38;5;241m=\u001b[39m \u001b[38;5;28;43mself\u001b[39;49m\u001b[38;5;241;43m.\u001b[39;49m\u001b[43m_send_handling_redirects\u001b[49m\u001b[43m(\u001b[49m\n\u001b[1;32m    943\u001b[0m \u001b[43m        \u001b[49m\u001b[43mrequest\u001b[49m\u001b[43m,\u001b[49m\n\u001b[1;32m    944\u001b[0m \u001b[43m        \u001b[49m\u001b[43mfollow_redirects\u001b[49m\u001b[38;5;241;43m=\u001b[39;49m\u001b[43mfollow_redirects\u001b[49m\u001b[43m,\u001b[49m\n\u001b[1;32m    945\u001b[0m \u001b[43m        \u001b[49m\u001b[43mhistory\u001b[49m\u001b[38;5;241;43m=\u001b[39;49m\u001b[43mhistory\u001b[49m\u001b[43m,\u001b[49m\n\u001b[1;32m    946\u001b[0m \u001b[43m    \u001b[49m\u001b[43m)\u001b[49m\n\u001b[1;32m    947\u001b[0m     \u001b[38;5;28;01mtry\u001b[39;00m:\n\u001b[1;32m    948\u001b[0m         \u001b[38;5;28;01mtry\u001b[39;00m:\n",
      "File \u001b[0;32m~/Documents/data-battle-2025/mcq-extr/.venv/lib/python3.10/site-packages/httpx/_client.py:979\u001b[0m, in \u001b[0;36mClient._send_handling_redirects\u001b[0;34m(self, request, follow_redirects, history)\u001b[0m\n\u001b[1;32m    976\u001b[0m \u001b[38;5;28;01mfor\u001b[39;00m hook \u001b[38;5;129;01min\u001b[39;00m \u001b[38;5;28mself\u001b[39m\u001b[38;5;241m.\u001b[39m_event_hooks[\u001b[38;5;124m\"\u001b[39m\u001b[38;5;124mrequest\u001b[39m\u001b[38;5;124m\"\u001b[39m]:\n\u001b[1;32m    977\u001b[0m     hook(request)\n\u001b[0;32m--> 979\u001b[0m response \u001b[38;5;241m=\u001b[39m \u001b[38;5;28;43mself\u001b[39;49m\u001b[38;5;241;43m.\u001b[39;49m\u001b[43m_send_single_request\u001b[49m\u001b[43m(\u001b[49m\u001b[43mrequest\u001b[49m\u001b[43m)\u001b[49m\n\u001b[1;32m    980\u001b[0m \u001b[38;5;28;01mtry\u001b[39;00m:\n\u001b[1;32m    981\u001b[0m     \u001b[38;5;28;01mfor\u001b[39;00m hook \u001b[38;5;129;01min\u001b[39;00m \u001b[38;5;28mself\u001b[39m\u001b[38;5;241m.\u001b[39m_event_hooks[\u001b[38;5;124m\"\u001b[39m\u001b[38;5;124mresponse\u001b[39m\u001b[38;5;124m\"\u001b[39m]:\n",
      "File \u001b[0;32m~/Documents/data-battle-2025/mcq-extr/.venv/lib/python3.10/site-packages/httpx/_client.py:1014\u001b[0m, in \u001b[0;36mClient._send_single_request\u001b[0;34m(self, request)\u001b[0m\n\u001b[1;32m   1009\u001b[0m     \u001b[38;5;28;01mraise\u001b[39;00m \u001b[38;5;167;01mRuntimeError\u001b[39;00m(\n\u001b[1;32m   1010\u001b[0m         \u001b[38;5;124m\"\u001b[39m\u001b[38;5;124mAttempted to send an async request with a sync Client instance.\u001b[39m\u001b[38;5;124m\"\u001b[39m\n\u001b[1;32m   1011\u001b[0m     )\n\u001b[1;32m   1013\u001b[0m \u001b[38;5;28;01mwith\u001b[39;00m request_context(request\u001b[38;5;241m=\u001b[39mrequest):\n\u001b[0;32m-> 1014\u001b[0m     response \u001b[38;5;241m=\u001b[39m \u001b[43mtransport\u001b[49m\u001b[38;5;241;43m.\u001b[39;49m\u001b[43mhandle_request\u001b[49m\u001b[43m(\u001b[49m\u001b[43mrequest\u001b[49m\u001b[43m)\u001b[49m\n\u001b[1;32m   1016\u001b[0m \u001b[38;5;28;01massert\u001b[39;00m \u001b[38;5;28misinstance\u001b[39m(response\u001b[38;5;241m.\u001b[39mstream, SyncByteStream)\n\u001b[1;32m   1018\u001b[0m response\u001b[38;5;241m.\u001b[39mrequest \u001b[38;5;241m=\u001b[39m request\n",
      "File \u001b[0;32m~/Documents/data-battle-2025/mcq-extr/.venv/lib/python3.10/site-packages/httpx/_transports/default.py:250\u001b[0m, in \u001b[0;36mHTTPTransport.handle_request\u001b[0;34m(self, request)\u001b[0m\n\u001b[1;32m    237\u001b[0m req \u001b[38;5;241m=\u001b[39m httpcore\u001b[38;5;241m.\u001b[39mRequest(\n\u001b[1;32m    238\u001b[0m     method\u001b[38;5;241m=\u001b[39mrequest\u001b[38;5;241m.\u001b[39mmethod,\n\u001b[1;32m    239\u001b[0m     url\u001b[38;5;241m=\u001b[39mhttpcore\u001b[38;5;241m.\u001b[39mURL(\n\u001b[0;32m   (...)\u001b[0m\n\u001b[1;32m    247\u001b[0m     extensions\u001b[38;5;241m=\u001b[39mrequest\u001b[38;5;241m.\u001b[39mextensions,\n\u001b[1;32m    248\u001b[0m )\n\u001b[1;32m    249\u001b[0m \u001b[38;5;28;01mwith\u001b[39;00m map_httpcore_exceptions():\n\u001b[0;32m--> 250\u001b[0m     resp \u001b[38;5;241m=\u001b[39m \u001b[38;5;28;43mself\u001b[39;49m\u001b[38;5;241;43m.\u001b[39;49m\u001b[43m_pool\u001b[49m\u001b[38;5;241;43m.\u001b[39;49m\u001b[43mhandle_request\u001b[49m\u001b[43m(\u001b[49m\u001b[43mreq\u001b[49m\u001b[43m)\u001b[49m\n\u001b[1;32m    252\u001b[0m \u001b[38;5;28;01massert\u001b[39;00m \u001b[38;5;28misinstance\u001b[39m(resp\u001b[38;5;241m.\u001b[39mstream, typing\u001b[38;5;241m.\u001b[39mIterable)\n\u001b[1;32m    254\u001b[0m \u001b[38;5;28;01mreturn\u001b[39;00m Response(\n\u001b[1;32m    255\u001b[0m     status_code\u001b[38;5;241m=\u001b[39mresp\u001b[38;5;241m.\u001b[39mstatus,\n\u001b[1;32m    256\u001b[0m     headers\u001b[38;5;241m=\u001b[39mresp\u001b[38;5;241m.\u001b[39mheaders,\n\u001b[1;32m    257\u001b[0m     stream\u001b[38;5;241m=\u001b[39mResponseStream(resp\u001b[38;5;241m.\u001b[39mstream),\n\u001b[1;32m    258\u001b[0m     extensions\u001b[38;5;241m=\u001b[39mresp\u001b[38;5;241m.\u001b[39mextensions,\n\u001b[1;32m    259\u001b[0m )\n",
      "File \u001b[0;32m~/Documents/data-battle-2025/mcq-extr/.venv/lib/python3.10/site-packages/httpcore/_sync/connection_pool.py:256\u001b[0m, in \u001b[0;36mConnectionPool.handle_request\u001b[0;34m(self, request)\u001b[0m\n\u001b[1;32m    253\u001b[0m         closing \u001b[38;5;241m=\u001b[39m \u001b[38;5;28mself\u001b[39m\u001b[38;5;241m.\u001b[39m_assign_requests_to_connections()\n\u001b[1;32m    255\u001b[0m     \u001b[38;5;28mself\u001b[39m\u001b[38;5;241m.\u001b[39m_close_connections(closing)\n\u001b[0;32m--> 256\u001b[0m     \u001b[38;5;28;01mraise\u001b[39;00m exc \u001b[38;5;28;01mfrom\u001b[39;00m\u001b[38;5;250m \u001b[39m\u001b[38;5;28;01mNone\u001b[39;00m\n\u001b[1;32m    258\u001b[0m \u001b[38;5;66;03m# Return the response. Note that in this case we still have to manage\u001b[39;00m\n\u001b[1;32m    259\u001b[0m \u001b[38;5;66;03m# the point at which the response is closed.\u001b[39;00m\n\u001b[1;32m    260\u001b[0m \u001b[38;5;28;01massert\u001b[39;00m \u001b[38;5;28misinstance\u001b[39m(response\u001b[38;5;241m.\u001b[39mstream, typing\u001b[38;5;241m.\u001b[39mIterable)\n",
      "File \u001b[0;32m~/Documents/data-battle-2025/mcq-extr/.venv/lib/python3.10/site-packages/httpcore/_sync/connection_pool.py:236\u001b[0m, in \u001b[0;36mConnectionPool.handle_request\u001b[0;34m(self, request)\u001b[0m\n\u001b[1;32m    232\u001b[0m connection \u001b[38;5;241m=\u001b[39m pool_request\u001b[38;5;241m.\u001b[39mwait_for_connection(timeout\u001b[38;5;241m=\u001b[39mtimeout)\n\u001b[1;32m    234\u001b[0m \u001b[38;5;28;01mtry\u001b[39;00m:\n\u001b[1;32m    235\u001b[0m     \u001b[38;5;66;03m# Send the request on the assigned connection.\u001b[39;00m\n\u001b[0;32m--> 236\u001b[0m     response \u001b[38;5;241m=\u001b[39m \u001b[43mconnection\u001b[49m\u001b[38;5;241;43m.\u001b[39;49m\u001b[43mhandle_request\u001b[49m\u001b[43m(\u001b[49m\n\u001b[1;32m    237\u001b[0m \u001b[43m        \u001b[49m\u001b[43mpool_request\u001b[49m\u001b[38;5;241;43m.\u001b[39;49m\u001b[43mrequest\u001b[49m\n\u001b[1;32m    238\u001b[0m \u001b[43m    \u001b[49m\u001b[43m)\u001b[49m\n\u001b[1;32m    239\u001b[0m \u001b[38;5;28;01mexcept\u001b[39;00m ConnectionNotAvailable:\n\u001b[1;32m    240\u001b[0m     \u001b[38;5;66;03m# In some cases a connection may initially be available to\u001b[39;00m\n\u001b[1;32m    241\u001b[0m     \u001b[38;5;66;03m# handle a request, but then become unavailable.\u001b[39;00m\n\u001b[1;32m    242\u001b[0m     \u001b[38;5;66;03m#\u001b[39;00m\n\u001b[1;32m    243\u001b[0m     \u001b[38;5;66;03m# In this case we clear the connection and try again.\u001b[39;00m\n\u001b[1;32m    244\u001b[0m     pool_request\u001b[38;5;241m.\u001b[39mclear_connection()\n",
      "File \u001b[0;32m~/Documents/data-battle-2025/mcq-extr/.venv/lib/python3.10/site-packages/httpcore/_sync/connection.py:103\u001b[0m, in \u001b[0;36mHTTPConnection.handle_request\u001b[0;34m(self, request)\u001b[0m\n\u001b[1;32m    100\u001b[0m     \u001b[38;5;28mself\u001b[39m\u001b[38;5;241m.\u001b[39m_connect_failed \u001b[38;5;241m=\u001b[39m \u001b[38;5;28;01mTrue\u001b[39;00m\n\u001b[1;32m    101\u001b[0m     \u001b[38;5;28;01mraise\u001b[39;00m exc\n\u001b[0;32m--> 103\u001b[0m \u001b[38;5;28;01mreturn\u001b[39;00m \u001b[38;5;28;43mself\u001b[39;49m\u001b[38;5;241;43m.\u001b[39;49m\u001b[43m_connection\u001b[49m\u001b[38;5;241;43m.\u001b[39;49m\u001b[43mhandle_request\u001b[49m\u001b[43m(\u001b[49m\u001b[43mrequest\u001b[49m\u001b[43m)\u001b[49m\n",
      "File \u001b[0;32m~/Documents/data-battle-2025/mcq-extr/.venv/lib/python3.10/site-packages/httpcore/_sync/http11.py:136\u001b[0m, in \u001b[0;36mHTTP11Connection.handle_request\u001b[0;34m(self, request)\u001b[0m\n\u001b[1;32m    134\u001b[0m     \u001b[38;5;28;01mwith\u001b[39;00m Trace(\u001b[38;5;124m\"\u001b[39m\u001b[38;5;124mresponse_closed\u001b[39m\u001b[38;5;124m\"\u001b[39m, logger, request) \u001b[38;5;28;01mas\u001b[39;00m trace:\n\u001b[1;32m    135\u001b[0m         \u001b[38;5;28mself\u001b[39m\u001b[38;5;241m.\u001b[39m_response_closed()\n\u001b[0;32m--> 136\u001b[0m \u001b[38;5;28;01mraise\u001b[39;00m exc\n",
      "File \u001b[0;32m~/Documents/data-battle-2025/mcq-extr/.venv/lib/python3.10/site-packages/httpcore/_sync/http11.py:106\u001b[0m, in \u001b[0;36mHTTP11Connection.handle_request\u001b[0;34m(self, request)\u001b[0m\n\u001b[1;32m     95\u001b[0m     \u001b[38;5;28;01mpass\u001b[39;00m\n\u001b[1;32m     97\u001b[0m \u001b[38;5;28;01mwith\u001b[39;00m Trace(\n\u001b[1;32m     98\u001b[0m     \u001b[38;5;124m\"\u001b[39m\u001b[38;5;124mreceive_response_headers\u001b[39m\u001b[38;5;124m\"\u001b[39m, logger, request, kwargs\n\u001b[1;32m     99\u001b[0m ) \u001b[38;5;28;01mas\u001b[39;00m trace:\n\u001b[1;32m    100\u001b[0m     (\n\u001b[1;32m    101\u001b[0m         http_version,\n\u001b[1;32m    102\u001b[0m         status,\n\u001b[1;32m    103\u001b[0m         reason_phrase,\n\u001b[1;32m    104\u001b[0m         headers,\n\u001b[1;32m    105\u001b[0m         trailing_data,\n\u001b[0;32m--> 106\u001b[0m     ) \u001b[38;5;241m=\u001b[39m \u001b[38;5;28;43mself\u001b[39;49m\u001b[38;5;241;43m.\u001b[39;49m\u001b[43m_receive_response_headers\u001b[49m\u001b[43m(\u001b[49m\u001b[38;5;241;43m*\u001b[39;49m\u001b[38;5;241;43m*\u001b[39;49m\u001b[43mkwargs\u001b[49m\u001b[43m)\u001b[49m\n\u001b[1;32m    107\u001b[0m     trace\u001b[38;5;241m.\u001b[39mreturn_value \u001b[38;5;241m=\u001b[39m (\n\u001b[1;32m    108\u001b[0m         http_version,\n\u001b[1;32m    109\u001b[0m         status,\n\u001b[1;32m    110\u001b[0m         reason_phrase,\n\u001b[1;32m    111\u001b[0m         headers,\n\u001b[1;32m    112\u001b[0m     )\n\u001b[1;32m    114\u001b[0m network_stream \u001b[38;5;241m=\u001b[39m \u001b[38;5;28mself\u001b[39m\u001b[38;5;241m.\u001b[39m_network_stream\n",
      "File \u001b[0;32m~/Documents/data-battle-2025/mcq-extr/.venv/lib/python3.10/site-packages/httpcore/_sync/http11.py:177\u001b[0m, in \u001b[0;36mHTTP11Connection._receive_response_headers\u001b[0;34m(self, request)\u001b[0m\n\u001b[1;32m    174\u001b[0m timeout \u001b[38;5;241m=\u001b[39m timeouts\u001b[38;5;241m.\u001b[39mget(\u001b[38;5;124m\"\u001b[39m\u001b[38;5;124mread\u001b[39m\u001b[38;5;124m\"\u001b[39m, \u001b[38;5;28;01mNone\u001b[39;00m)\n\u001b[1;32m    176\u001b[0m \u001b[38;5;28;01mwhile\u001b[39;00m \u001b[38;5;28;01mTrue\u001b[39;00m:\n\u001b[0;32m--> 177\u001b[0m     event \u001b[38;5;241m=\u001b[39m \u001b[38;5;28;43mself\u001b[39;49m\u001b[38;5;241;43m.\u001b[39;49m\u001b[43m_receive_event\u001b[49m\u001b[43m(\u001b[49m\u001b[43mtimeout\u001b[49m\u001b[38;5;241;43m=\u001b[39;49m\u001b[43mtimeout\u001b[49m\u001b[43m)\u001b[49m\n\u001b[1;32m    178\u001b[0m     \u001b[38;5;28;01mif\u001b[39;00m \u001b[38;5;28misinstance\u001b[39m(event, h11\u001b[38;5;241m.\u001b[39mResponse):\n\u001b[1;32m    179\u001b[0m         \u001b[38;5;28;01mbreak\u001b[39;00m\n",
      "File \u001b[0;32m~/Documents/data-battle-2025/mcq-extr/.venv/lib/python3.10/site-packages/httpcore/_sync/http11.py:217\u001b[0m, in \u001b[0;36mHTTP11Connection._receive_event\u001b[0;34m(self, timeout)\u001b[0m\n\u001b[1;32m    214\u001b[0m     event \u001b[38;5;241m=\u001b[39m \u001b[38;5;28mself\u001b[39m\u001b[38;5;241m.\u001b[39m_h11_state\u001b[38;5;241m.\u001b[39mnext_event()\n\u001b[1;32m    216\u001b[0m \u001b[38;5;28;01mif\u001b[39;00m event \u001b[38;5;129;01mis\u001b[39;00m h11\u001b[38;5;241m.\u001b[39mNEED_DATA:\n\u001b[0;32m--> 217\u001b[0m     data \u001b[38;5;241m=\u001b[39m \u001b[38;5;28;43mself\u001b[39;49m\u001b[38;5;241;43m.\u001b[39;49m\u001b[43m_network_stream\u001b[49m\u001b[38;5;241;43m.\u001b[39;49m\u001b[43mread\u001b[49m\u001b[43m(\u001b[49m\n\u001b[1;32m    218\u001b[0m \u001b[43m        \u001b[49m\u001b[38;5;28;43mself\u001b[39;49m\u001b[38;5;241;43m.\u001b[39;49m\u001b[43mREAD_NUM_BYTES\u001b[49m\u001b[43m,\u001b[49m\u001b[43m \u001b[49m\u001b[43mtimeout\u001b[49m\u001b[38;5;241;43m=\u001b[39;49m\u001b[43mtimeout\u001b[49m\n\u001b[1;32m    219\u001b[0m \u001b[43m    \u001b[49m\u001b[43m)\u001b[49m\n\u001b[1;32m    221\u001b[0m     \u001b[38;5;66;03m# If we feed this case through h11 we'll raise an exception like:\u001b[39;00m\n\u001b[1;32m    222\u001b[0m     \u001b[38;5;66;03m#\u001b[39;00m\n\u001b[1;32m    223\u001b[0m     \u001b[38;5;66;03m#     httpcore.RemoteProtocolError: can't handle event type\u001b[39;00m\n\u001b[0;32m   (...)\u001b[0m\n\u001b[1;32m    227\u001b[0m     \u001b[38;5;66;03m# perspective. Instead we handle this case distinctly and treat\u001b[39;00m\n\u001b[1;32m    228\u001b[0m     \u001b[38;5;66;03m# it as a ConnectError.\u001b[39;00m\n\u001b[1;32m    229\u001b[0m     \u001b[38;5;28;01mif\u001b[39;00m data \u001b[38;5;241m==\u001b[39m \u001b[38;5;124mb\u001b[39m\u001b[38;5;124m\"\u001b[39m\u001b[38;5;124m\"\u001b[39m \u001b[38;5;129;01mand\u001b[39;00m \u001b[38;5;28mself\u001b[39m\u001b[38;5;241m.\u001b[39m_h11_state\u001b[38;5;241m.\u001b[39mtheir_state \u001b[38;5;241m==\u001b[39m h11\u001b[38;5;241m.\u001b[39mSEND_RESPONSE:\n",
      "File \u001b[0;32m~/Documents/data-battle-2025/mcq-extr/.venv/lib/python3.10/site-packages/httpcore/_backends/sync.py:128\u001b[0m, in \u001b[0;36mSyncStream.read\u001b[0;34m(self, max_bytes, timeout)\u001b[0m\n\u001b[1;32m    126\u001b[0m \u001b[38;5;28;01mwith\u001b[39;00m map_exceptions(exc_map):\n\u001b[1;32m    127\u001b[0m     \u001b[38;5;28mself\u001b[39m\u001b[38;5;241m.\u001b[39m_sock\u001b[38;5;241m.\u001b[39msettimeout(timeout)\n\u001b[0;32m--> 128\u001b[0m     \u001b[38;5;28;01mreturn\u001b[39;00m \u001b[38;5;28;43mself\u001b[39;49m\u001b[38;5;241;43m.\u001b[39;49m\u001b[43m_sock\u001b[49m\u001b[38;5;241;43m.\u001b[39;49m\u001b[43mrecv\u001b[49m\u001b[43m(\u001b[49m\u001b[43mmax_bytes\u001b[49m\u001b[43m)\u001b[49m\n",
      "\u001b[0;31mKeyboardInterrupt\u001b[0m: "
     ]
    }
   ],
   "source": [
    "\n",
    "embeddings_list = []\n",
    "for line in data:\n",
    "    response = ollama.embeddings(model='nomic-embed-text', prompt=line)\n",
    "    embeddings_list.append(response.embedding)\n",
    "\n",
    "embeddings_array = np.array(embeddings_list)\n",
    "\n",
    "with h5py.File('data/clean/h5/guidelines_examination_articles.h5', 'w') as h5_file:\n",
    "    h5_file.create_dataset('embeddings', data=embeddings_array)\n"
   ]
  },
  {
   "cell_type": "code",
   "execution_count": 11,
   "metadata": {},
   "outputs": [
    {
     "ename": "NameError",
     "evalue": "name 'embeddings_array' is not defined",
     "output_type": "error",
     "traceback": [
      "\u001b[0;31m---------------------------------------------------------------------------\u001b[0m",
      "\u001b[0;31mNameError\u001b[0m                                 Traceback (most recent call last)",
      "Cell \u001b[0;32mIn[11], line 1\u001b[0m\n\u001b[0;32m----> 1\u001b[0m \u001b[38;5;28mprint\u001b[39m(\u001b[43membeddings_array\u001b[49m\u001b[38;5;241m.\u001b[39mshape)\n",
      "\u001b[0;31mNameError\u001b[0m: name 'embeddings_array' is not defined"
     ]
    }
   ],
   "source": [
    "print(embeddings_array.shape)"
   ]
  },
  {
   "cell_type": "code",
   "execution_count": 19,
   "metadata": {},
   "outputs": [
    {
     "name": "stdout",
     "output_type": "stream",
     "text": [
      "prompt\n",
      "Top 1: V. PROCEEDINGS BEFORE THE BOARDS OF APPEAL 3. Petition for review under Article 112a EPC 3.2. Transitional provisions : The decision of the Administrative Council of 28 June 2001 on the transitional provisions underArt. 7 of the Act revising the EPCof 29 November 2000 provides that \"Article 112a EPCshall apply to decisions of the Boards of Appeal taken as from the date of its entry into force\" (seeR 2/08). Referring toG 12/91(OJ 1994, 285), the Enlarged Board inR 5/08interpreted \"taken\" to be the date a decision given orally is pronounced, not the date of notification. A petition based on a decision dated prior to, yet not notified to the parties until after entry into force of the EPC 2000, is therefore inadmissible.\n",
      "\n",
      "Top 2: V. PROCEEDINGS BEFORE THE BOARDS OF APPEAL 2. Filing and admissibility of the appeal 2.4. Entitlement to appeal 2.4.1 Formal aspects under Article 107 EPC  b) Appeal filed in name of representative : An appeal filed in the name of the representative instead of the party adversely affected by the decision impugned was rejected as inadmissible inJ 1/92. In the absence of any clear indication to the contrary, a professional representative who was authorised to act for a party adversely affected by a decision and then filed an appeal against this decision had to be presumed to be acting on behalf of the very same party that he acted for in the first instance proceedings, and not on behalf of someone else not entitled to appeal (T 920/97). Although the notice of appeal did not indicate the name and address of the appellant as required byR. 64(a) EPC 1973, the appellant corrected the notice of appeal in time and the appeal was thus admissible. See alsoT 1911/09andT 2244/14.\n",
      "\n",
      "Top 3: V. PROCEEDINGS BEFORE THE BOARDS OF APPEAL 2. Filing and admissibility of the appeal : According toArt. 108 EPCa notice of appeal shall be filed, in accordance with the Implementing Regulations, at the EPO within two months of the date of notification of the decision. Notice of appeal shall not be deemed to have been filed until the fee for appeal has been paid. A statement setting out the grounds of appeal must be filed in accordance with the Implementing Regulations within four months of notification of the decision.R. 99 EPCsets out what the notice of appeal and the statement of grounds must contain. The admissibility of an appeal can only be assessed as a whole (T 382/96,T 1763/06,T 509/07,T 23/10,T 2001/14). There is no support in the EPC for a notion of 'partial admissibility' of an appeal (T 774/97,T 509/07). See also chapterV.A.11.3. \"Appeal deemed not to have been filed\".\n",
      "\n",
      "Top 4: V. PROCEEDINGS BEFORE THE BOARDS OF APPEAL 2. Filing and admissibility of the appeal 2.8. Cases where admissibility of appeal need not be considered : In appeal proceedings in which the question of allowability of an appeal can be readily decided (i.e. the appeal is clearly unallowable) but no decision on its admissibility can be taken yet, the issue of admissibility of the appeal can be left open (T 1467/11). Similarly, in a number of decision on petitions for review underArt. 112a EPC, the Enlarged Board of Appeal did not arrive at a final conclusion as to whether the petition in question was clearly inadmissible, because it found the petition to be clearly unallowable (T 2023/09).\n",
      "\n",
      "Top 5: V. PROCEEDINGS BEFORE THE BOARDS OF APPEAL 2. Filing and admissibility of the appeal 2.4. Entitlement to appeal 2.4.1 Formal aspects under Article 107 EPC  a) Appeal filed by wrong company : InT 340/92the appellant was a company which had obviously been named in the notice of appeal by mistake, instead of a subsidiary, which was the real opponent. The actual appellant was the only party adversely affected by refusal of the opposition, and was readily identifiable through its representative, who was named in the appeal dossier. The board held that this deficiency could be remedied underR. 65(2) EPC 1973(R. 101(2) EPC). See alsoT 875/06. However, if the notice of appeal was filed by an adversely affected party, but the grounds of appeal were filed by a different company which was not a party to the opposition proceedings, let alone a party adversely affected by the outcome of those proceedings, the appeal could not be held admissible. No provision having been made in the Implementing Regulations pursuant toArt. 133(3), last sentence, EPC 1973the EPC 1973 did not allow the representation of one legal person by the employee of another economically related legal person, who could not therefore file the grounds of appeal on the other's behalf (T 298/97,OJ 2002, 83). According toG 1/12(OJ 2014, A114), the identity of the appellant, i.e. the person entitled to appeal, has to be established by expiry of the two-month period prescribed inArt. 108, first sentence, EPCat the latest (seeR. 101(1) EPC). In certain circumstances, errors in the information identifying the appellant can be corrected underR. 101(2) EPC(for more details on this, see chapterV.A.2.5.2).\n",
      "\n"
     ]
    }
   ],
   "source": [
    "\n",
    "\n",
    "with h5py.File('data/clean/h5/case_law_of_the_board.h5', 'r') as h5_file:\n",
    "    embeds = h5_file['embeddings'][:]\n",
    "\n",
    "\n",
    "prompt = \"When is an appeal considered inadmissible under Article 107 of the EPC?\"\n",
    "\n",
    "print(\"prompt\")\n",
    "\n",
    "prompt_embedding_response = ollama.embeddings(model='nomic-embed-text', prompt=prompt)\n",
    "prompt_embedding = np.array(prompt_embedding_response.embedding).reshape(1, -1)\n",
    "\n",
    "# Calculer les similarités entre le prompt et les paragraphes\n",
    "similarities = cosine_similarity(prompt_embedding, embeds)\n",
    "\n",
    "# Trouver les indices des 5 paragraphes les plus similaires\n",
    "top_5_indices = similarities.argsort()[0][-5:][::-1]\n",
    "\n",
    "# Afficher les 5 paragraphes les plus similaires\n",
    "top_5_paragraphs = [data[i] for i in top_5_indices]\n",
    "for i, paragraph in enumerate(top_5_paragraphs, 1):\n",
    "    print(f\"Top {i}: {paragraph}\\n\")\n"
   ]
  },
  {
   "cell_type": "code",
   "execution_count": null,
   "metadata": {},
   "outputs": [],
   "source": [
    "\n",
    "json_files = ['data/clean/json/guidelines_examination_articles.json', 'data/clean/json/epc_rules.json', 'data/clean/json/epc_articles.json', \"data/clean/json/case_law_of_the_board.json\"]\n",
    "h5_files = ['data/clean/h5/guidelines_examination_articles.h5', 'data/clean/h5/epc_rules.h5', 'data/clean/h5/epc_articles.h5', \"data/clean/h5/case_law_of_the_board.h5\"]\n",
    "\n",
    "data_array = []\n",
    "for file in json_files:\n",
    "    with open(file) as f:\n",
    "        data = json.load(f)\n",
    "        data = flatten_json(data)\n",
    "        data_array.append(data)\n",
    "\n",
    "embeddings_array = []\n",
    "for file in h5_files:\n",
    "    with h5py.File(file, 'r') as h5_file:\n",
    "        embeddings = h5_file['embeddings'][:]\n",
    "        embeddings_array.append(embeddings)\n",
    "\n",
    "prompt = \"Je suis en train de lire un document sur la brevetabilité des inventions techniques selon la Convention sur le brevet européen (CBE). Pourriez-vous m'expliquer les principales conditions de brevetabilité mentionnées dans l'article 52(1) de la CBE et comment elles sont interprétées par les chambres de recours ? De plus, pourriez-vous clarifier la notion de caractère technique requis pour une invention et comment elle est évaluée sans référence à l'état de la technique ?\"\n",
    "prompt = clean_text(prompt)\n",
    "prompt = ' '.join([word for word in prompt.split() if word not in stop_words])  # Remove stopwords\n",
    "\n",
    "prompt_embedding_response = ollama.embeddings(model='nomic-embed-text', prompt=prompt)\n",
    "prompt_embedding = np.array(prompt_embedding_response.embedding).reshape(1, -1)\n",
    "\n",
    "for data, embeddings in zip(data_array, embeddings_array):\n",
    "    similarities = cosine_similarity(prompt_embedding, embeddings)\n",
    "    high_similarity_indices = np.where(similarities[0] >= 0.6)[0]\n",
    "    top_paragraphs = [data[i] for i in high_similarity_indices][:10]  # Limit to maximum 10 per file\n",
    "    print(top_paragraphs)\n"
   ]
  },
  {
   "cell_type": "code",
   "execution_count": 20,
   "metadata": {},
   "outputs": [
    {
     "name": "stderr",
     "output_type": "stream",
     "text": [
      "/home/leo/Documents/data-battle-2025/mcq-extr/.venv/lib/python3.10/site-packages/transformers/models/marian/tokenization_marian.py:175: UserWarning: Recommended: pip install sacremoses.\n",
      "  warnings.warn(\"Recommended: pip install sacremoses.\")\n",
      "Device set to use cuda:0\n"
     ]
    }
   ],
   "source": [
    "from transformers import pipeline\n",
    "\n",
    "pipe = pipeline(\"translation\", model=\"Helsinki-NLP/opus-mt-fr-en\")"
   ]
  },
  {
   "cell_type": "code",
   "execution_count": 27,
   "metadata": {},
   "outputs": [],
   "source": [
    "res = pipe(\"I am currently reading a document on the patentability of technical inventions under the European Patent Convention (EPC). Could you explain to me the main conditions of patentability mentioned in Article 52(1) EPC and how they are interpreted by the Boards of Appeal? Furthermore, could you clarify the concept of the technical character required for an invention and how it is assessed without reference to prior art?\")"
   ]
  },
  {
   "cell_type": "code",
   "execution_count": 30,
   "metadata": {},
   "outputs": [
    {
     "name": "stdout",
     "output_type": "stream",
     "text": [
      "I am currently reading a document on the patentability of technical inventions under the European Patent Convention (EPC). Could you explain to me the main conditions of patentability mentioned in Article 52(1) EPC and how they are interpreted by the Boards of Appeal? Furthermore, could you clarify the concept of the technical character required for an invention and how it is assessed without reference to prior art?\n"
     ]
    }
   ],
   "source": [
    "print(res[0]['translation_text'])"
   ]
  },
  {
   "cell_type": "code",
   "execution_count": null,
   "metadata": {},
   "outputs": [],
   "source": []
  }
 ],
 "metadata": {
  "kernelspec": {
   "display_name": ".venv",
   "language": "python",
   "name": "python3"
  },
  "language_info": {
   "codemirror_mode": {
    "name": "ipython",
    "version": 3
   },
   "file_extension": ".py",
   "mimetype": "text/x-python",
   "name": "python",
   "nbconvert_exporter": "python",
   "pygments_lexer": "ipython3",
   "version": "3.10.12"
  }
 },
 "nbformat": 4,
 "nbformat_minor": 2
}
